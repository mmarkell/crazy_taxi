{
 "cells": [
  {
   "cell_type": "markdown",
   "metadata": {},
   "source": [
    "# Uber\n",
    "My 2013 Macbook Pro with 8gb of memory wasn't really up to the task of running big joins and creating visuals for all of the data. I did initially ETL all of the CSV files into an Azure Data Warehouse instance, but I quickly ran out of free credits and so I am left with doing it all locally. In case you want to test this on your own, this is all inside Docker so you should be able to run this anywhere.\n",
    "\n",
    "My strategy was basically to take the CSV files and store them in a geo-optimized PostgreSQL database called PostGIS. Querying based on spatial data is faster and easier with smart indices and K-D trees / other fancy algorithms that PostGIS runs than on a more simple SQL db (or just trying to load up the data into memory on my computer...)\n",
    "\n",
    "I wrote a little python client for Jupyter where you can run some sql or see some visualizations."
   ]
  },
  {
   "cell_type": "code",
   "execution_count": 9,
   "metadata": {},
   "outputs": [],
   "source": [
    "import sys\n",
    "from uber import taxidb\n",
    "import matplotlib.pyplot as plt"
   ]
  },
  {
   "cell_type": "code",
   "execution_count": 10,
   "metadata": {},
   "outputs": [],
   "source": [
    "db = taxidb()"
   ]
  },
  {
   "cell_type": "code",
   "execution_count": 13,
   "metadata": {
    "scrolled": true
   },
   "outputs": [
    {
     "data": {
      "text/plain": [
       "Decimal('650.6397363973639736')"
      ]
     },
     "execution_count": 13,
     "metadata": {},
     "output_type": "execute_result"
    }
   ],
   "source": [
    "db.get_average_trip_length()[0]"
   ]
  },
  {
   "cell_type": "markdown",
   "metadata": {},
   "source": [
    "As you can tell if you run this, these non-spatial queries run quite quickly because of the indices I added to the database."
   ]
  },
  {
   "cell_type": "code",
   "execution_count": 12,
   "metadata": {
    "scrolled": true
   },
   "outputs": [
    {
     "data": {
      "text/plain": [
       "(9134095,)"
      ]
     },
     "execution_count": 12,
     "metadata": {},
     "output_type": "execute_result"
    }
   ],
   "source": [
    "# .2 miles = 321 meters. 5 is in minutes.\n",
    "distance, time = 321, 5 \n",
    "db.get_shareable_ride_count_by_distance_and_time(distance, time)"
   ]
  },
  {
   "cell_type": "markdown",
   "metadata": {},
   "source": [
    "On the other hand, doing spatial queries such as this one take a little longer, up to several minutes, because of hardware limitations."
   ]
  },
  {
   "cell_type": "code",
   "execution_count": 5,
   "metadata": {
    "scrolled": true
   },
   "outputs": [
    {
     "data": {
      "text/plain": [
       "[<matplotlib.lines.Line2D at 0x7f4b156771d0>]"
      ]
     },
     "execution_count": 5,
     "metadata": {},
     "output_type": "execute_result"
    },
    {
     "data": {
      "image/png": "[encoded data removed]",
      "text/plain": [
       "<Figure size 432x288 with 1 Axes>"
      ]
     },
     "metadata": {
      "needs_background": "light"
     },
     "output_type": "display_data"
    }
   ],
   "source": [
    "### Here, I iterate through the hours 0 - 23 and graph the percentage of rides that are shareable\n",
    "### Distance must be < .2 miles and time must be < 5 minutes in this particular instance. \n",
    "### You can see there is a big peak in shareable rides around the work day, with spikes at rush hour.\n",
    "\n",
    "hours = [db.get_shareable_ride_count_by_distance_and_time(distance, time, str(i)) for i in range(24)]\n",
    "plt.plot(hours)"
   ]
  },
  {
   "cell_type": "code",
   "execution_count": null,
   "metadata": {},
   "outputs": [],
   "source": [
    "# 1 miles = 610 meters\n",
    "# 12 = 12pm. Let's see how ride share-ability varies with regards to 50 meter space increments at noon.\n",
    "hours = [db.get_shareable_ride_count_by_distance_and_time(i, time, \"12\") for i in range(0, 610, 50)]\n",
    "plt.plot(hours)"
   ]
  },
  {
   "cell_type": "code",
   "execution_count": null,
   "metadata": {},
   "outputs": [],
   "source": [
    "# Here, you can try something out: Use this sql, or write your own here:\n",
    "query = \"\"\"\n",
    "            SELECT SUM(trip_time_in_secs) as time, Medallion\n",
    "            FROM TRIPS\n",
    "            GROUP BY Medallion\n",
    "            LIMIT 10\n",
    "\"\"\"\n",
    "result = db.executeQuery(query)\n",
    "for r in result:\n",
    "    print(r)"
   ]
  },
  {
   "cell_type": "code",
   "execution_count": null,
   "metadata": {},
   "outputs": [],
   "source": []
  }
 ],
 "metadata": {
  "kernelspec": {
   "display_name": "Python 3",
   "language": "python",
   "name": "python3"
  },
  "language_info": {
   "codemirror_mode": {
    "name": "ipython",
    "version": 3
   },
   "file_extension": ".py",
   "mimetype": "text/x-python",
   "name": "python",
   "nbconvert_exporter": "python",
   "pygments_lexer": "ipython3",
   "version": "3.7.3"
  }
 },
 "nbformat": 4,
 "nbformat_minor": 2
}
